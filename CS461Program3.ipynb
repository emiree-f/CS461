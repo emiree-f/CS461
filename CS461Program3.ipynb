{
  "nbformat": 4,
  "nbformat_minor": 0,
  "metadata": {
    "colab": {
      "name": "CS461Program3.ipynb",
      "provenance": [],
      "authorship_tag": "ABX9TyOybcuxDcI9p1FpyzqV0SQs",
      "include_colab_link": true
    },
    "kernelspec": {
      "name": "python3",
      "display_name": "Python 3"
    },
    "language_info": {
      "name": "python"
    },
    "accelerator": "GPU"
  },
  "cells": [
    {
      "cell_type": "markdown",
      "metadata": {
        "id": "view-in-github",
        "colab_type": "text"
      },
      "source": [
        "<a href=\"https://colab.research.google.com/github/emiree-f/CS461/blob/main/CS461Program3.ipynb\" target=\"_parent\"><img src=\"https://colab.research.google.com/assets/colab-badge.svg\" alt=\"Open In Colab\"/></a>"
      ]
    },
    {
      "cell_type": "code",
      "metadata": {
        "id": "NbogqPGYbw7q"
      },
      "source": [
        "import pandas as pd\n",
        "import numpy as np\n",
        "from sklearn.model_selection import train_test_split\n",
        "from keras import Sequential\n",
        "from keras.layers import Dense"
      ],
      "execution_count": 1,
      "outputs": []
    },
    {
      "cell_type": "code",
      "metadata": {
        "id": "G0MoWKrUcPFP"
      },
      "source": [
        "filename = '/content/StudentsPerformance.csv'"
      ],
      "execution_count": 2,
      "outputs": []
    },
    {
      "cell_type": "code",
      "metadata": {
        "colab": {
          "base_uri": "https://localhost:8080/",
          "height": 206
        },
        "id": "NWjUVB4VcK2-",
        "outputId": "d1458f06-d04c-4c69-b0e2-4d10cb57e15d"
      },
      "source": [
        "data = pd.read_csv(filename)\n",
        "data.head()"
      ],
      "execution_count": 3,
      "outputs": [
        {
          "output_type": "execute_result",
          "data": {
            "text/html": [
              "<div>\n",
              "<style scoped>\n",
              "    .dataframe tbody tr th:only-of-type {\n",
              "        vertical-align: middle;\n",
              "    }\n",
              "\n",
              "    .dataframe tbody tr th {\n",
              "        vertical-align: top;\n",
              "    }\n",
              "\n",
              "    .dataframe thead th {\n",
              "        text-align: right;\n",
              "    }\n",
              "</style>\n",
              "<table border=\"1\" class=\"dataframe\">\n",
              "  <thead>\n",
              "    <tr style=\"text-align: right;\">\n",
              "      <th></th>\n",
              "      <th>gender</th>\n",
              "      <th>race/ethnicity</th>\n",
              "      <th>parental level of education</th>\n",
              "      <th>lunch</th>\n",
              "      <th>test preparation course</th>\n",
              "      <th>math score</th>\n",
              "      <th>reading score</th>\n",
              "      <th>writing score</th>\n",
              "    </tr>\n",
              "  </thead>\n",
              "  <tbody>\n",
              "    <tr>\n",
              "      <th>0</th>\n",
              "      <td>female</td>\n",
              "      <td>group B</td>\n",
              "      <td>bachelor's degree</td>\n",
              "      <td>standard</td>\n",
              "      <td>none</td>\n",
              "      <td>72</td>\n",
              "      <td>72</td>\n",
              "      <td>74</td>\n",
              "    </tr>\n",
              "    <tr>\n",
              "      <th>1</th>\n",
              "      <td>female</td>\n",
              "      <td>group C</td>\n",
              "      <td>some college</td>\n",
              "      <td>standard</td>\n",
              "      <td>completed</td>\n",
              "      <td>69</td>\n",
              "      <td>90</td>\n",
              "      <td>88</td>\n",
              "    </tr>\n",
              "    <tr>\n",
              "      <th>2</th>\n",
              "      <td>female</td>\n",
              "      <td>group B</td>\n",
              "      <td>master's degree</td>\n",
              "      <td>standard</td>\n",
              "      <td>none</td>\n",
              "      <td>90</td>\n",
              "      <td>95</td>\n",
              "      <td>93</td>\n",
              "    </tr>\n",
              "    <tr>\n",
              "      <th>3</th>\n",
              "      <td>male</td>\n",
              "      <td>group A</td>\n",
              "      <td>associate's degree</td>\n",
              "      <td>free/reduced</td>\n",
              "      <td>none</td>\n",
              "      <td>47</td>\n",
              "      <td>57</td>\n",
              "      <td>44</td>\n",
              "    </tr>\n",
              "    <tr>\n",
              "      <th>4</th>\n",
              "      <td>male</td>\n",
              "      <td>group C</td>\n",
              "      <td>some college</td>\n",
              "      <td>standard</td>\n",
              "      <td>none</td>\n",
              "      <td>76</td>\n",
              "      <td>78</td>\n",
              "      <td>75</td>\n",
              "    </tr>\n",
              "  </tbody>\n",
              "</table>\n",
              "</div>"
            ],
            "text/plain": [
              "   gender race/ethnicity  ... reading score writing score\n",
              "0  female        group B  ...            72            74\n",
              "1  female        group C  ...            90            88\n",
              "2  female        group B  ...            95            93\n",
              "3    male        group A  ...            57            44\n",
              "4    male        group C  ...            78            75\n",
              "\n",
              "[5 rows x 8 columns]"
            ]
          },
          "metadata": {},
          "execution_count": 3
        }
      ]
    },
    {
      "cell_type": "code",
      "metadata": {
        "colab": {
          "base_uri": "https://localhost:8080/"
        },
        "id": "m_i9oxfUiOw-",
        "outputId": "aba0c793-e21d-4f53-f606-9de64e36f2df"
      },
      "source": [
        "print(data.shape)"
      ],
      "execution_count": 4,
      "outputs": [
        {
          "output_type": "stream",
          "name": "stdout",
          "text": [
            "(1000, 8)\n"
          ]
        }
      ]
    },
    {
      "cell_type": "code",
      "metadata": {
        "id": "PZFwLNjpc5uu",
        "colab": {
          "base_uri": "https://localhost:8080/"
        },
        "outputId": "5f67e3ac-e43a-4bf1-d645-86940f0e1f9d"
      },
      "source": [
        "# Use a 70/15/15 split for Training/Test/Validation data\n",
        "train_size = 0.7\n",
        "\n",
        "# Last 3 columns are our target columns\n",
        "X = data.drop(columns=['math score','reading score','writing score']).copy()\n",
        "y = data[data.columns.values[-3:]].copy()\n",
        "\n",
        "print(X.head())\n",
        "print(y.head())"
      ],
      "execution_count": 5,
      "outputs": [
        {
          "output_type": "stream",
          "name": "stdout",
          "text": [
            "   gender race/ethnicity  ...         lunch test preparation course\n",
            "0  female        group B  ...      standard                    none\n",
            "1  female        group C  ...      standard               completed\n",
            "2  female        group B  ...      standard                    none\n",
            "3    male        group A  ...  free/reduced                    none\n",
            "4    male        group C  ...      standard                    none\n",
            "\n",
            "[5 rows x 5 columns]\n",
            "   math score  reading score  writing score\n",
            "0          72             72             74\n",
            "1          69             90             88\n",
            "2          90             95             93\n",
            "3          47             57             44\n",
            "4          76             78             75\n"
          ]
        }
      ]
    },
    {
      "cell_type": "markdown",
      "metadata": {
        "id": "QLy_TYOklsqv"
      },
      "source": [
        "One-hot encode categorical input variables"
      ]
    },
    {
      "cell_type": "code",
      "metadata": {
        "colab": {
          "base_uri": "https://localhost:8080/"
        },
        "id": "1K5vUXaqi4-r",
        "outputId": "15b792de-c51a-4be1-ce94-706657354026"
      },
      "source": [
        "# Check columns to encode\n",
        "for col in X.columns:\n",
        "  print(X[col].value_counts())\n",
        "  print()"
      ],
      "execution_count": 6,
      "outputs": [
        {
          "output_type": "stream",
          "name": "stdout",
          "text": [
            "female    518\n",
            "male      482\n",
            "Name: gender, dtype: int64\n",
            "\n",
            "group C    319\n",
            "group D    262\n",
            "group B    190\n",
            "group E    140\n",
            "group A     89\n",
            "Name: race/ethnicity, dtype: int64\n",
            "\n",
            "some college          226\n",
            "associate's degree    222\n",
            "high school           196\n",
            "some high school      179\n",
            "bachelor's degree     118\n",
            "master's degree        59\n",
            "Name: parental level of education, dtype: int64\n",
            "\n",
            "standard        645\n",
            "free/reduced    355\n",
            "Name: lunch, dtype: int64\n",
            "\n",
            "none         642\n",
            "completed    358\n",
            "Name: test preparation course, dtype: int64\n",
            "\n"
          ]
        }
      ]
    },
    {
      "cell_type": "code",
      "metadata": {
        "colab": {
          "base_uri": "https://localhost:8080/",
          "height": 278
        },
        "id": "FnYft95Pla26",
        "outputId": "c1b03699-b65d-44e2-b2a2-b7f949b3f0a7"
      },
      "source": [
        "# One-Hot encoding the categorical parameters using get_dummies()\n",
        "one_hot_encoded_X = pd.get_dummies(X, columns = X.columns)\n",
        "one_hot_encoded_X.head()"
      ],
      "execution_count": 7,
      "outputs": [
        {
          "output_type": "execute_result",
          "data": {
            "text/html": [
              "<div>\n",
              "<style scoped>\n",
              "    .dataframe tbody tr th:only-of-type {\n",
              "        vertical-align: middle;\n",
              "    }\n",
              "\n",
              "    .dataframe tbody tr th {\n",
              "        vertical-align: top;\n",
              "    }\n",
              "\n",
              "    .dataframe thead th {\n",
              "        text-align: right;\n",
              "    }\n",
              "</style>\n",
              "<table border=\"1\" class=\"dataframe\">\n",
              "  <thead>\n",
              "    <tr style=\"text-align: right;\">\n",
              "      <th></th>\n",
              "      <th>gender_female</th>\n",
              "      <th>gender_male</th>\n",
              "      <th>race/ethnicity_group A</th>\n",
              "      <th>race/ethnicity_group B</th>\n",
              "      <th>race/ethnicity_group C</th>\n",
              "      <th>race/ethnicity_group D</th>\n",
              "      <th>race/ethnicity_group E</th>\n",
              "      <th>parental level of education_associate's degree</th>\n",
              "      <th>parental level of education_bachelor's degree</th>\n",
              "      <th>parental level of education_high school</th>\n",
              "      <th>parental level of education_master's degree</th>\n",
              "      <th>parental level of education_some college</th>\n",
              "      <th>parental level of education_some high school</th>\n",
              "      <th>lunch_free/reduced</th>\n",
              "      <th>lunch_standard</th>\n",
              "      <th>test preparation course_completed</th>\n",
              "      <th>test preparation course_none</th>\n",
              "    </tr>\n",
              "  </thead>\n",
              "  <tbody>\n",
              "    <tr>\n",
              "      <th>0</th>\n",
              "      <td>1</td>\n",
              "      <td>0</td>\n",
              "      <td>0</td>\n",
              "      <td>1</td>\n",
              "      <td>0</td>\n",
              "      <td>0</td>\n",
              "      <td>0</td>\n",
              "      <td>0</td>\n",
              "      <td>1</td>\n",
              "      <td>0</td>\n",
              "      <td>0</td>\n",
              "      <td>0</td>\n",
              "      <td>0</td>\n",
              "      <td>0</td>\n",
              "      <td>1</td>\n",
              "      <td>0</td>\n",
              "      <td>1</td>\n",
              "    </tr>\n",
              "    <tr>\n",
              "      <th>1</th>\n",
              "      <td>1</td>\n",
              "      <td>0</td>\n",
              "      <td>0</td>\n",
              "      <td>0</td>\n",
              "      <td>1</td>\n",
              "      <td>0</td>\n",
              "      <td>0</td>\n",
              "      <td>0</td>\n",
              "      <td>0</td>\n",
              "      <td>0</td>\n",
              "      <td>0</td>\n",
              "      <td>1</td>\n",
              "      <td>0</td>\n",
              "      <td>0</td>\n",
              "      <td>1</td>\n",
              "      <td>1</td>\n",
              "      <td>0</td>\n",
              "    </tr>\n",
              "    <tr>\n",
              "      <th>2</th>\n",
              "      <td>1</td>\n",
              "      <td>0</td>\n",
              "      <td>0</td>\n",
              "      <td>1</td>\n",
              "      <td>0</td>\n",
              "      <td>0</td>\n",
              "      <td>0</td>\n",
              "      <td>0</td>\n",
              "      <td>0</td>\n",
              "      <td>0</td>\n",
              "      <td>1</td>\n",
              "      <td>0</td>\n",
              "      <td>0</td>\n",
              "      <td>0</td>\n",
              "      <td>1</td>\n",
              "      <td>0</td>\n",
              "      <td>1</td>\n",
              "    </tr>\n",
              "    <tr>\n",
              "      <th>3</th>\n",
              "      <td>0</td>\n",
              "      <td>1</td>\n",
              "      <td>1</td>\n",
              "      <td>0</td>\n",
              "      <td>0</td>\n",
              "      <td>0</td>\n",
              "      <td>0</td>\n",
              "      <td>1</td>\n",
              "      <td>0</td>\n",
              "      <td>0</td>\n",
              "      <td>0</td>\n",
              "      <td>0</td>\n",
              "      <td>0</td>\n",
              "      <td>1</td>\n",
              "      <td>0</td>\n",
              "      <td>0</td>\n",
              "      <td>1</td>\n",
              "    </tr>\n",
              "    <tr>\n",
              "      <th>4</th>\n",
              "      <td>0</td>\n",
              "      <td>1</td>\n",
              "      <td>0</td>\n",
              "      <td>0</td>\n",
              "      <td>1</td>\n",
              "      <td>0</td>\n",
              "      <td>0</td>\n",
              "      <td>0</td>\n",
              "      <td>0</td>\n",
              "      <td>0</td>\n",
              "      <td>0</td>\n",
              "      <td>1</td>\n",
              "      <td>0</td>\n",
              "      <td>0</td>\n",
              "      <td>1</td>\n",
              "      <td>0</td>\n",
              "      <td>1</td>\n",
              "    </tr>\n",
              "  </tbody>\n",
              "</table>\n",
              "</div>"
            ],
            "text/plain": [
              "   gender_female  ...  test preparation course_none\n",
              "0              1  ...                             1\n",
              "1              1  ...                             0\n",
              "2              1  ...                             1\n",
              "3              0  ...                             1\n",
              "4              0  ...                             1\n",
              "\n",
              "[5 rows x 17 columns]"
            ]
          },
          "metadata": {},
          "execution_count": 7
        }
      ]
    },
    {
      "cell_type": "code",
      "metadata": {
        "colab": {
          "base_uri": "https://localhost:8080/"
        },
        "id": "sB2YKnNwhmQ0",
        "outputId": "6b753064-142c-4caf-bba0-2fd4b9e87373"
      },
      "source": [
        "# Split off training set\n",
        "X_train, X_rem, y_train, y_rem = train_test_split(one_hot_encoded_X, y, train_size=train_size)\n",
        "\n",
        "print(\"X_train.shape: \", X_train.shape)\n",
        "print(\"y_train.shape: \", y_train.shape)\n",
        "print(\"X_rem.shape: \", X_rem.shape)\n",
        "print(\"y_rem.shape: \", y_rem.shape)"
      ],
      "execution_count": 8,
      "outputs": [
        {
          "output_type": "stream",
          "name": "stdout",
          "text": [
            "X_train.shape:  (700, 17)\n",
            "y_train.shape:  (700, 3)\n",
            "X_rem.shape:  (300, 17)\n",
            "y_rem.shape:  (300, 3)\n"
          ]
        }
      ]
    },
    {
      "cell_type": "code",
      "metadata": {
        "colab": {
          "base_uri": "https://localhost:8080/"
        },
        "id": "OO3vya3VnXOe",
        "outputId": "23d95d30-f458-4e13-b94b-3866f5e90b4d"
      },
      "source": [
        "test_size = 0.5\n",
        "# Split test and validation sets\n",
        "X_valid, X_test, y_valid, y_test = train_test_split(X_rem,y_rem, test_size=test_size)\n",
        "\n",
        "print(\"X_valid.shape: \", X_valid.shape)\n",
        "print(\"y_valid.shape: \", y_valid.shape)\n",
        "print(\"X_test.shape: \", X_test.shape)\n",
        "print(\"y_test.shape: \", y_test.shape)"
      ],
      "execution_count": 9,
      "outputs": [
        {
          "output_type": "stream",
          "name": "stdout",
          "text": [
            "X_valid.shape:  (150, 17)\n",
            "y_valid.shape:  (150, 3)\n",
            "X_test.shape:  (150, 17)\n",
            "y_test.shape:  (150, 3)\n"
          ]
        }
      ]
    },
    {
      "cell_type": "code",
      "metadata": {
        "id": "IwXp07-9bOXf"
      },
      "source": [
        "n_inputs = one_hot_encoded_X.shape[1]\n",
        "n_outputs = y.shape[1]"
      ],
      "execution_count": 10,
      "outputs": []
    },
    {
      "cell_type": "code",
      "metadata": {
        "id": "SXc7qZNbpoDN",
        "colab": {
          "base_uri": "https://localhost:8080/"
        },
        "outputId": "84086a9c-a9b3-4880-e596-1137f7950766"
      },
      "source": [
        "# Create model and add layers\n",
        "model = Sequential()\n",
        "model.add(Dense(20, activation='relu', input_dim=n_inputs))\n",
        "model.add(Dense(n_outputs, activation='linear'))\n",
        "model.compile(loss='mae', optimizer='adam',metrics=['accuracy'])\n",
        "model.summary()"
      ],
      "execution_count": 11,
      "outputs": [
        {
          "output_type": "stream",
          "name": "stdout",
          "text": [
            "Model: \"sequential\"\n",
            "_________________________________________________________________\n",
            " Layer (type)                Output Shape              Param #   \n",
            "=================================================================\n",
            " dense (Dense)               (None, 20)                360       \n",
            "                                                                 \n",
            " dense_1 (Dense)             (None, 3)                 63        \n",
            "                                                                 \n",
            "=================================================================\n",
            "Total params: 423\n",
            "Trainable params: 423\n",
            "Non-trainable params: 0\n",
            "_________________________________________________________________\n"
          ]
        }
      ]
    },
    {
      "cell_type": "code",
      "metadata": {
        "id": "Ie5U5QbfcPAI"
      },
      "source": [
        "# Fit model on training set\n",
        "history = model.fit(X_train, y_train, verbose=0, epochs=2000)"
      ],
      "execution_count": 12,
      "outputs": []
    },
    {
      "cell_type": "code",
      "metadata": {
        "id": "BjLGG7dfrTfl"
      },
      "source": [
        "# Fit model on validation set\n",
        "history = model.fit(X_valid, y_valid, verbose=0, epochs=2000)"
      ],
      "execution_count": 13,
      "outputs": []
    },
    {
      "cell_type": "code",
      "metadata": {
        "colab": {
          "base_uri": "https://localhost:8080/"
        },
        "id": "PLL66QnVdQ9u",
        "outputId": "3fee30c3-c869-4179-e194-99ca88226915"
      },
      "source": [
        "# Evaluate model on test set\n",
        "model.evaluate(X_test,y_test)"
      ],
      "execution_count": 14,
      "outputs": [
        {
          "output_type": "stream",
          "name": "stdout",
          "text": [
            "5/5 [==============================] - 0s 4ms/step - loss: 10.9376 - accuracy: 0.5267\n"
          ]
        },
        {
          "output_type": "execute_result",
          "data": {
            "text/plain": [
              "[10.937607765197754, 0.5266666412353516]"
            ]
          },
          "metadata": {},
          "execution_count": 14
        }
      ]
    }
  ]
}